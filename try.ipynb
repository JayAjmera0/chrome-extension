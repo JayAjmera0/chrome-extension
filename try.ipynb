{
 "cells": [
  {
   "cell_type": "code",
   "execution_count": 3,
   "metadata": {},
   "outputs": [
    {
     "name": "stdout",
     "output_type": "stream",
     "text": [
      "1/1 [==============================] - 1s 525ms/step\n",
      "1/1 [==============================] - 0s 383ms/step\n",
      "1/1 [==============================] - 0s 26ms/step\n",
      "1/1 [==============================] - 0s 31ms/step\n",
      "1/1 [==============================] - 0s 30ms/step\n",
      "1/1 [==============================] - 0s 27ms/step\n",
      "1/1 [==============================] - 0s 30ms/step\n",
      "1/1 [==============================] - 0s 39ms/step\n",
      "1/1 [==============================] - 0s 34ms/step\n",
      "1/1 [==============================] - 0s 36ms/step\n",
      "1/1 [==============================] - 0s 33ms/step\n",
      "1/1 [==============================] - 0s 22ms/step\n",
      "1/1 [==============================] - 0s 25ms/step\n",
      "1/1 [==============================] - 0s 32ms/step\n",
      "1/1 [==============================] - 0s 33ms/step\n",
      "pred trump vs. just show clinton and the onion - america's finest news source\n",
      "real The White House on Wednesday declined to rule out that President Trump will issue a pardon to protect former national security adviser Michael Flynn from the Russia probe, as the investigation heats up and the administration weighs its strategy. White House Press Secretary Sarah Sanders said she is not aware of any plans to pardon Flynn, who has pleaded guilty to lying to the FBI about his contacts with Russia's ambassador to the U.S. But she did not rule out the possibility. 'I'm not aware of any plans for that at all,' Sanders said. 'I'm not aware of that, right now, so I can't answer that question right now at this time.' She added: 'I'm not aware of any conversations for that whatsoever.' The comments came after Trump tweeted earlier this month that he had to fire Flynn 'because he lied to the Vice President and the FBI.' Flynn's guilty plea has raised questions about whether Trump could try to pardon him, as a way to shield him from the investigation. Trump has denied any collusion with Russia, and has called the probe a 'witch hunt.'\n"
     ]
    }
   ],
   "source": [
    "from __future__ import print_function\n",
    "import pandas as pd\n",
    "from seq2seq import Seq2SeqSummarizer\n",
    "import numpy as np\n",
    "import warnings\n",
    "warnings.filterwarnings('ignore')\n",
    "\n",
    "\n",
    "def main():\n",
    "    np.random.seed(42)\n",
    "    model_dir_path = './'\n",
    "\n",
    "    # Adjust this line\n",
    "    config = np.load(Seq2SeqSummarizer.get_config_file_path(model_dir_path=model_dir_path), allow_pickle=True).item()\n",
    "\n",
    "    summarizer = Seq2SeqSummarizer(config)\n",
    "    summarizer.load_weights(weight_file_path=Seq2SeqSummarizer.get_weight_file_path(model_dir_path=model_dir_path))\n",
    "    content = \"The White House on Wednesday declined to rule out that President Trump will issue a pardon to protect former national security adviser Michael Flynn from the Russia probe, as the investigation heats up and the administration weighs its strategy. White House Press Secretary Sarah Sanders said she is not aware of any plans to pardon Flynn, who has pleaded guilty to lying to the FBI about his contacts with Russia's ambassador to the U.S. But she did not rule out the possibility. 'I'm not aware of any plans for that at all,' Sanders said. 'I'm not aware of that, right now, so I can't answer that question right now at this time.' She added: 'I'm not aware of any conversations for that whatsoever.' The comments came after Trump tweeted earlier this month that he had to fire Flynn 'because he lied to the Vice President and the FBI.' Flynn's guilty plea has raised questions about whether Trump could try to pardon him, as a way to shield him from the investigation. Trump has denied any collusion with Russia, and has called the probe a 'witch hunt.'\"\n",
    "    print(\"pred\",summarizer.summarize(content))\n",
    "    print(\"real\",content)\n",
    "\n",
    "if __name__ == '__main__':\n",
    "    main()\n"
   ]
  },
  {
   "cell_type": "code",
   "execution_count": null,
   "metadata": {},
   "outputs": [],
   "source": []
  }
 ],
 "metadata": {
  "kernelspec": {
   "display_name": "base",
   "language": "python",
   "name": "python3"
  },
  "language_info": {
   "codemirror_mode": {
    "name": "ipython",
    "version": 3
   },
   "file_extension": ".py",
   "mimetype": "text/x-python",
   "name": "python",
   "nbconvert_exporter": "python",
   "pygments_lexer": "ipython3",
   "version": "3.9.19"
  }
 },
 "nbformat": 4,
 "nbformat_minor": 2
}
